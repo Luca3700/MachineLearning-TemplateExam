{
 "cells": [
  {
   "cell_type": "code",
   "execution_count": null,
   "metadata": {},
   "outputs": [],
   "source": [
    "import pandas as pd\n",
    "from mlxtend.frequent_patterns import apriori\n",
    "from mlxtend.frequent_patterns import association_rules\n",
    "\n",
    "import matplotlib.pyplot as plt\n",
    "%matplotlib inline\n",
    "\n",
    "\n",
    "import networkx as nx\n",
    "import numpy as np\n",
    "\n",
    "def draw_graph(rules, rules_to_show=5):\n",
    "    \"\"\"\n",
    "    draws the rules as a graph linking antecedents and consequents\n",
    "    \"rule nodes\" are yellow, with name \"R<n>\", \"item nodes\" are green\n",
    "    arrows colors are different for each rule, and go from the antecedent(s)\n",
    "    to the rule node and to the consequent(s)\n",
    "    the \"rules_to_show\" parameter limits the rules to show to the initial\n",
    "    part of the \"rules\" dataframe\n",
    "    @author: Claudio Sartori\n",
    "    \"\"\"\n",
    "    N = 50\n",
    "    np.random.seed(42)\n",
    "    colors = np.random.rand(N)\n",
    "    G1 = nx.DiGraph()\n",
    "    color_map = []\n",
    "    strs = []  # will store the names of the rules   \n",
    "    for i in range(rules_to_show):\n",
    "        G1.add_nodes_from([\"R\" + str(i)])\n",
    "        strs.append(\"R\" + str(i))  # stores in a list the \"names\" of the rules\n",
    "        for a in rules.iloc[i]['antecedents']:\n",
    "            G1.add_nodes_from([a])\n",
    "            G1.add_edge(a, \"R\" + str(i), color=colors[i], weight=2)\n",
    "        for c in rules.iloc[i]['consequents']:\n",
    "            G1.add_nodes_from([c])\n",
    "            G1.add_edge(\"R\" + str(i), c, color=colors[i], weight=2)\n",
    "    for node in G1:  # set the appropriate color for rule nodes and item nodes\n",
    "        if node in strs:\n",
    "            color_map.append('yellow')\n",
    "        else:\n",
    "            color_map.append('green')\n",
    "    edges = G1.edges()\n",
    "    colors = [G1[u][v]['color'] for u, v in edges]\n",
    "    weights = [G1[u][v]['weight'] for u, v in edges]\n",
    "    pos = nx.spring_layout(G1, k=16, scale=1)\n",
    "    nx.draw(G1, pos, node_color=color_map, edge_color=colors, width=weights,\n",
    "            font_size=16, with_labels=False)\n",
    "    for p in pos:  # raise text positions\n",
    "        pos[p][1] += 0.07\n",
    "    nx.draw_networkx_labels(G1, pos)\n",
    "    plt.show()\n"
   ]
  },
  {
   "cell_type": "code",
   "execution_count": null,
   "metadata": {},
   "outputs": [],
   "source": [
    "url = 'Online-Retail.csv'\n",
    "df = pd.read_csv(url)\n",
    "df.head(20)"
   ]
  },
  {
   "cell_type": "code",
   "execution_count": null,
   "metadata": {},
   "outputs": [],
   "source": [
    "# Actions:\n",
    "# 1. filter the rows ``Country`='France'`\n",
    "# 2. group by `['InvoiceNo', 'Description']` computing a sum on `['Quantity']`\n",
    "# 3. use the `unstack` function to move the items from rows to columns\n",
    "# 4. reset the index\n",
    "# 5. fill the missing with zero (`fillna(0)`)\n",
    "# 6. store the result in the new dataframe `basket` and inspect it\n",
    "basket = (df[df['Country'] ==\"France\"]\n",
    "          .groupby(['InvoiceNo', 'Description'])['Quantity']\n",
    "          .sum().unstack().reset_index().fillna(0)\n",
    "          .set_index('InvoiceNo'))\n",
    "basket"
   ]
  },
  {
   "cell_type": "code",
   "execution_count": null,
   "metadata": {},
   "outputs": [],
   "source": [
    "# There are a lot of zeros in the data but we also need to make sure any \n",
    "# positive values are converted to a 1 and anything less than 0 is set to 0.\n",
    "encode_units = lambda x: 0 if x <= 0 else 1\n",
    "basket_sets = basket.applymap(encode_units)"
   ]
  },
  {
   "attachments": {},
   "cell_type": "markdown",
   "metadata": {},
   "source": [
    "Now that the data is structured properly, we can generate frequent item sets that have a support of at least 7% (this number was chosen so that we can get enough useful examples):\n",
    "\n",
    "- generate the `frequent_itemsets` with `apriori`, setting `min_support=0.07` and `use_colnames=True`\n",
    "- generate the `rules` with `association_rules` using `metric=\"lift\"` and `min_threshold=1`\n",
    "- show the rules"
   ]
  },
  {
   "cell_type": "code",
   "execution_count": null,
   "metadata": {},
   "outputs": [],
   "source": [
    "frequent_itemsets = apriori(basket_sets, min_support=0.07, use_colnames=True)\n",
    "\n",
    "rules = association_rules(frequent_itemsets, metric=\"lift\", min_threshold=1)\n",
    "rules.shape"
   ]
  },
  {
   "cell_type": "code",
   "execution_count": null,
   "metadata": {},
   "outputs": [],
   "source": [
    "# In order to plot the rules, it is better to sort them according to some metrics.\n",
    "# We will sort on descending confidence and support and plot `'confidence'` and `'support'`\n",
    "\n",
    "sorted_rules=rules.sort_values(by=['confidence','support'],ascending=False).reset_index(drop=True)\n",
    "sorted_rules[['confidence','support']].plot(title='Association Rules');"
   ]
  },
  {
   "attachments": {},
   "cell_type": "markdown",
   "metadata": {},
   "source": [
    "You find below a three dimensional plot, where the dot size is proportional to the lift, obtained using `plot.scatter`."
   ]
  },
  {
   "cell_type": "code",
   "execution_count": null,
   "metadata": {},
   "outputs": [],
   "source": [
    "# 1.8 is chosen empirically to obtain the best graphical effect\n",
    "s = [1.8**n for n in rules.lift]\n",
    "rules.plot.scatter(x='support', \n",
    "                   y='confidence', \n",
    "                   title='Association Rules (dot proportional to Lift)', \n",
    "                   s=s);"
   ]
  },
  {
   "cell_type": "code",
   "execution_count": null,
   "metadata": {},
   "outputs": [],
   "source": [
    "plt.figure(figsize=(10,10))\n",
    "draw_graph (sorted_rules, 10)  "
   ]
  }
 ],
 "metadata": {
  "kernelspec": {
   "display_name": "Python 3",
   "language": "python",
   "name": "python3"
  },
  "language_info": {
   "name": "python",
   "version": "3.10.6 (main, Aug 10 2022, 11:40:04) [GCC 11.3.0]"
  },
  "orig_nbformat": 4,
  "vscode": {
   "interpreter": {
    "hash": "916dbcbb3f70747c44a77c7bcd40155683ae19c65e1c03b4aa3499c5328201f1"
   }
  }
 },
 "nbformat": 4,
 "nbformat_minor": 2
}
